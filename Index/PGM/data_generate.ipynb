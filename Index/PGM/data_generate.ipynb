{
 "cells": [
  {
   "cell_type": "code",
   "execution_count": null,
   "metadata": {},
   "outputs": [],
   "source": [
    "import numpy as np\n",
    "import random\n",
    "import math\n",
    "\n",
    "def gauss_noisy(x, y):\n",
    "  \"\"\"\n",
    "  对输入数据加入高斯噪声\n",
    "  :param x: x轴数据\n",
    "  :param y: y轴数据\n",
    "  :return:\n",
    "  \"\"\"\n",
    "  mu = 0\n",
    "  sigma = 50\n",
    "  for i in range(len(x)):\n",
    "      x[i] += random.gauss(mu, sigma)\n",
    "      y[i] += random.gauss(mu, sigma)\n",
    "\n",
    "sampleNo = 10000000;\n",
    "mu = 85\n",
    "sigma = 50\n",
    "np.random.seed(0)\n",
    "s = np.random.normal(mu, sigma, sampleNo )\n",
    "\n",
    "np.savetxt(\"data_0.txt\",s,fmt='%d')"
   ]
  },
  {
   "cell_type": "code",
   "execution_count": 1,
   "metadata": {},
   "outputs": [],
   "source": [
    "import numpy as np\n",
    "import random\n",
    "import math"
   ]
  },
  {
   "cell_type": "code",
   "execution_count": 15,
   "metadata": {},
   "outputs": [
    {
     "data": {
      "text/plain": [
       "10000000"
      ]
     },
     "execution_count": 15,
     "metadata": {},
     "output_type": "execute_result"
    }
   ],
   "source": [
    "data_0 = np.loadtxt(\"./data_0.txt\")\n",
    "len(data_0)\n"
   ]
  },
  {
   "cell_type": "code",
   "execution_count": 13,
   "metadata": {},
   "outputs": [
    {
     "data": {
      "text/plain": [
       "9950000"
      ]
     },
     "execution_count": 13,
     "metadata": {},
     "output_type": "execute_result"
    }
   ],
   "source": [
    "data_1 = data_0[49999:-1]\n",
    "len(data_1)"
   ]
  },
  {
   "cell_type": "code",
   "execution_count": 8,
   "metadata": {},
   "outputs": [
    {
     "name": "stdout",
     "output_type": "stream",
     "text": [
      "10\n"
     ]
    }
   ],
   "source": [
    "a = 5\n",
    "def add(a):\n",
    "    a= a+5\n",
    "    return a\n",
    "\n",
    "b = add(a)\n",
    "print(b)"
   ]
  },
  {
   "cell_type": "code",
   "execution_count": 17,
   "metadata": {},
   "outputs": [],
   "source": [
    "import random\n",
    "from copy import deepcopy\n",
    "data_origin = deepcopy(data_0)\n",
    "\n",
    "def gauss_noisy(x):\n",
    "    sigma = 50\n",
    "    for i in range(len(x)):\n",
    "        x[i] += random.gauss(mu, sigma)\n",
    "    return x\n",
    "\n",
    "np.savetxt(f\"../../data/data_0.txt\",data_origin,fmt='%d')\n",
    "\n",
    "for i in range(1,30):\n",
    "    old_data = data_origin[49999:-1]\n",
    "    mu = random.randint(40,100)\n",
    "    sigma = random.randint(40,60)\n",
    "    new_data = np.random.normal(mu, sigma, 50000)\n",
    "    new_data = gauss_noisy(new_data)\n",
    "    whole_data_set = np.hstack((old_data,new_data))\n",
    "    np.savetxt(f\"../../data/data_{i}.txt\",whole_data_set,fmt='%d')\n",
    "    data_origin = deepcopy(whole_data_set)"
   ]
  },
  {
   "cell_type": "code",
   "execution_count": 19,
   "metadata": {},
   "outputs": [
    {
     "data": {
      "text/plain": [
       "10000000"
      ]
     },
     "execution_count": 19,
     "metadata": {},
     "output_type": "execute_result"
    }
   ],
   "source": [
    "import numpy as np\n",
    "data_1 = np.loadtxt(\"../../data/data_29.txt\")\n",
    "len(data_1)"
   ]
  }
 ],
 "metadata": {
  "kernelspec": {
   "display_name": "Python 3.7.3 64-bit",
   "language": "python",
   "name": "python3"
  },
  "language_info": {
   "codemirror_mode": {
    "name": "ipython",
    "version": 3
   },
   "file_extension": ".py",
   "mimetype": "text/x-python",
   "name": "python",
   "nbconvert_exporter": "python",
   "pygments_lexer": "ipython3",
   "version": "3.8.9"
  },
  "orig_nbformat": 4,
  "vscode": {
   "interpreter": {
    "hash": "31f2aee4e71d21fbe5cf8b01ff0e069b9275f58929596ceb00d14d90e3e16cd6"
   }
  }
 },
 "nbformat": 4,
 "nbformat_minor": 2
}
