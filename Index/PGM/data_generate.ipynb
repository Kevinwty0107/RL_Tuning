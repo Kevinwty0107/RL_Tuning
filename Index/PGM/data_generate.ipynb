{
 "cells": [
  {
   "cell_type": "code",
   "execution_count": null,
   "metadata": {},
   "outputs": [],
   "source": [
    "import numpy as np\n",
    "import random\n",
    "import math\n",
    "\n",
    "def gauss_noisy(x, y):\n",
    "  \"\"\"\n",
    "  对输入数据加入高斯噪声\n",
    "  :param x: x轴数据\n",
    "  :param y: y轴数据\n",
    "  :return:\n",
    "  \"\"\"\n",
    "  mu = 0\n",
    "  sigma = 50\n",
    "  for i in range(len(x)):\n",
    "      x[i] += random.gauss(mu, sigma)\n",
    "      y[i] += random.gauss(mu, sigma)\n",
    "\n",
    "sampleNo = 10000000;\n",
    "mu = 85\n",
    "sigma = 50\n",
    "np.random.seed(0)\n",
    "s = np.random.normal(mu, sigma, sampleNo )\n",
    "\n",
    "np.savetxt(\"data_0.txt\",s,fmt='%d')"
   ]
  },
  {
   "cell_type": "code",
   "execution_count": 1,
   "metadata": {},
   "outputs": [],
   "source": [
    "import numpy as np\n",
    "import random\n",
    "import math"
   ]
  },
  {
   "cell_type": "code",
   "execution_count": 3,
   "metadata": {},
   "outputs": [
    {
     "data": {
      "text/plain": [
       "10000000"
      ]
     },
     "execution_count": 3,
     "metadata": {},
     "output_type": "execute_result"
    }
   ],
   "source": [
    "data_0 = np.loadtxt(\"./data_0.txt\")\n",
    "len(data_0)\n"
   ]
  },
  {
   "cell_type": "code",
   "execution_count": 13,
   "metadata": {},
   "outputs": [
    {
     "data": {
      "text/plain": [
       "9950000"
      ]
     },
     "execution_count": 13,
     "metadata": {},
     "output_type": "execute_result"
    }
   ],
   "source": [
    "data_1 = data_0[49999:-1]\n",
    "len(data_1)"
   ]
  },
  {
   "cell_type": "code",
   "execution_count": 20,
   "metadata": {},
   "outputs": [],
   "source": [
    "from copy import deepcopy\n",
    "data_origin = deepcopy(data_0)\n",
    "for i in range(1,100):\n",
    "    old_data = data_origin[49999:-1]\n",
    "    mu = random.randint(40,100)\n",
    "    sigma = random.randint(40,60)\n",
    "    new_data = s = np.random.normal(mu, sigma, 50000)\n",
    "    whole_data_set = np.hstack((old_data,new_data))\n",
    "    np.savetxt(f\"../../data/data_{i}.txt\",s,fmt='%d')\n",
    "    data_origin = deepcopy(whole_data_set)"
   ]
  }
 ],
 "metadata": {
  "kernelspec": {
   "display_name": "Python 3.7.12 ('base')",
   "language": "python",
   "name": "python3"
  },
  "language_info": {
   "codemirror_mode": {
    "name": "ipython",
    "version": 3
   },
   "file_extension": ".py",
   "mimetype": "text/x-python",
   "name": "python",
   "nbconvert_exporter": "python",
   "pygments_lexer": "ipython3",
   "version": "3.7.12"
  },
  "orig_nbformat": 4,
  "vscode": {
   "interpreter": {
    "hash": "80c18ea57fee6e44f2aaef3eefda70117a758a9dacb0599dde599ed8bf03809a"
   }
  }
 },
 "nbformat": 4,
 "nbformat_minor": 2
}
