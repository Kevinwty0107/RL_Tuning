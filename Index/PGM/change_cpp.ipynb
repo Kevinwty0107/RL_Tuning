{
 "cells": [
  {
   "cell_type": "code",
   "execution_count": 4,
   "metadata": {},
   "outputs": [],
   "source": [
    "import os\n",
    " \n",
    "def updateFile(file):\n",
    "    a = 10\n",
    "    file_data = \"\"\n",
    "    with open(file, \"r\") as f:\n",
    "        for line in f:\n",
    "            line = line.replace(\"pgm::PGMIndex<int,50> index(data);\",\"pgm::PGMIndex<int,%d> index(data);\" %(a) )\n",
    "            file_data += line\n",
    "    with open(file,\"w\") as f:\n",
    "        f.write(file_data)\n",
    "\n",
    "updateFile(\"test.cpp\")\n"
   ]
  },
  {
   "cell_type": "code",
   "execution_count": 35,
   "metadata": {},
   "outputs": [],
   "source": [
    "import numpy as np\n",
    "import random\n",
    "import math\n",
    "\n",
    "def gauss_noisy(x, y):\n",
    "  \"\"\"\n",
    "  对输入数据加入高斯噪声\n",
    "  :param x: x轴数据\n",
    "  :param y: y轴数据\n",
    "  :return:\n",
    "  \"\"\"\n",
    "  mu = 0\n",
    "  sigma = 50\n",
    "  for i in range(len(x)):\n",
    "      x[i] += random.gauss(mu, sigma)\n",
    "      y[i] += random.gauss(mu, sigma)\n",
    "\n",
    "sampleNo = 10000000;\n",
    "mu = 85\n",
    "sigma = 50\n",
    "np.random.seed(0)\n",
    "s = np.random.normal(mu, sigma, sampleNo )\n",
    "\n",
    "np.savetxt(\"file.txt\",s,fmt='%d')"
   ]
  },
  {
   "cell_type": "code",
   "execution_count": 19,
   "metadata": {},
   "outputs": [
    {
     "data": {
      "text/plain": [
       "-0.26237485370392877"
      ]
     },
     "execution_count": 19,
     "metadata": {},
     "output_type": "execute_result"
    }
   ],
   "source": [
    "math.sin(50)"
   ]
  },
  {
   "cell_type": "code",
   "execution_count": 36,
   "metadata": {},
   "outputs": [],
   "source": [
    "import os\n",
    " \n",
    "def updateFile(file):\n",
    "    a = b= 10\n",
    "    file_data = \"\"\n",
    "    with open(file, \"r\") as f:\n",
    "        for line in f:\n",
    "            line = line.replace(\"pgm::PGMIndex<K,88, 4, float> pgm;\",\"pgm::PGMIndex<K,%d, %d, float> pgm;\" %(a,b) )\n",
    "            file_data += line\n",
    "    with open(file,\"w\") as f:\n",
    "        f.write(file_data)\n",
    "\n",
    "updateFile(\"./index_test.cpp\")"
   ]
  }
 ],
 "metadata": {
  "kernelspec": {
   "display_name": "Python 3.7.12 ('base')",
   "language": "python",
   "name": "python3"
  },
  "language_info": {
   "codemirror_mode": {
    "name": "ipython",
    "version": 3
   },
   "file_extension": ".py",
   "mimetype": "text/x-python",
   "name": "python",
   "nbconvert_exporter": "python",
   "pygments_lexer": "ipython3",
   "version": "3.7.12"
  },
  "orig_nbformat": 4,
  "vscode": {
   "interpreter": {
    "hash": "80c18ea57fee6e44f2aaef3eefda70117a758a9dacb0599dde599ed8bf03809a"
   }
  }
 },
 "nbformat": 4,
 "nbformat_minor": 2
}
